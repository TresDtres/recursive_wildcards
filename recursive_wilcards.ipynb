{
 "cells": [
  {
   "cell_type": "code",
   "execution_count": 17,
   "id": "37f4ae3a",
   "metadata": {},
   "outputs": [
    {
     "name": "stdout",
     "output_type": "stream",
     "text": [
      "Running on local URL:  http://127.0.0.1:7865\n",
      "\n",
      "To create a public link, set `share=True` in `launch()`.\n"
     ]
    },
    {
     "data": {
      "text/html": [
       "<div><iframe src=\"http://127.0.0.1:7865/\" width=\"100%\" height=\"500\" allow=\"autoplay; camera; microphone; clipboard-read; clipboard-write;\" frameborder=\"0\" allowfullscreen></iframe></div>"
      ],
      "text/plain": [
       "<IPython.core.display.HTML object>"
      ]
     },
     "metadata": {},
     "output_type": "display_data"
    }
   ],
   "source": [
    "import gradio as gr\n",
    "\n",
    "# Resto del código...\n",
    "\n",
    "def editar_archivo(archivo, texto_inicio, texto_fin, ruta_guardado):\n",
    "    with open(archivo.name, 'r') as f:\n",
    "        lines = f.readlines()\n",
    "    \n",
    "    with open(ruta_guardado, 'w') as f:\n",
    "        for line in lines:\n",
    "            line = texto_inicio + line.strip() + texto_fin  # Modifica la línea con el texto de inicio y fin\n",
    "            f.write(line + '\\n')  # Escribe la línea modificada en el archivo de salida\n",
    "\n",
    "def interfaz():\n",
    "    archivo = gr.File(label=\"Archivo de entrada\")\n",
    "    texto_inicio = gr.Textbox(label=\"Texto al principio\")\n",
    "    texto_fin = gr.Textbox(label=\"Texto al final\")\n",
    "    ruta_guardado = gr.Textbox(label=\"Ruta de guardado\")\n",
    "    boton = gr.Button(label=\"Editar archivo\")\n",
    "    gr.Interface(fn=editar_archivo, inputs=[archivo, texto_inicio, texto_fin, ruta_guardado], outputs=None, title=\"Recursive Wildcard Modifier\").launch()\n",
    "\n",
    "interfaz()\n",
    "\n"
   ]
  },
  {
   "cell_type": "code",
   "execution_count": null,
   "id": "e134068c",
   "metadata": {},
   "outputs": [],
   "source": []
  },
  {
   "cell_type": "code",
   "execution_count": null,
   "id": "29ed1ba4",
   "metadata": {},
   "outputs": [],
   "source": []
  }
 ],
 "metadata": {
  "kernelspec": {
   "display_name": "Python 3 (ipykernel)",
   "language": "python",
   "name": "python3"
  },
  "language_info": {
   "codemirror_mode": {
    "name": "ipython",
    "version": 3
   },
   "file_extension": ".py",
   "mimetype": "text/x-python",
   "name": "python",
   "nbconvert_exporter": "python",
   "pygments_lexer": "ipython3",
   "version": "3.10.9"
  }
 },
 "nbformat": 4,
 "nbformat_minor": 5
}
